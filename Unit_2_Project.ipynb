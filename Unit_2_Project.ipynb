{
  "nbformat": 4,
  "nbformat_minor": 0,
  "metadata": {
    "colab": {
      "name": "Unit 2 Project.ipynb",
      "provenance": [],
      "authorship_tag": "ABX9TyOaxHe1oU9gxjJjuiBiAOvB",
      "include_colab_link": true
    },
    "kernelspec": {
      "name": "python3",
      "display_name": "Python 3"
    },
    "language_info": {
      "name": "python"
    }
  },
  "cells": [
    {
      "cell_type": "markdown",
      "metadata": {
        "id": "view-in-github",
        "colab_type": "text"
      },
      "source": [
        "<a href=\"https://colab.research.google.com/github/11shoe/mtg_cards/blob/main/Unit_2_Project.ipynb\" target=\"_parent\"><img src=\"https://colab.research.google.com/assets/colab-badge.svg\" alt=\"Open In Colab\"/></a>"
      ]
    },
    {
      "cell_type": "code",
      "source": [
        "%%capture\n",
        "!pip install category_encoders==2.*"
      ],
      "metadata": {
        "id": "TLw4Qwi-HdNS"
      },
      "execution_count": 1,
      "outputs": []
    },
    {
      "cell_type": "code",
      "execution_count": 2,
      "metadata": {
        "id": "OVknJ2v2U6zl",
        "colab": {
          "base_uri": "https://localhost:8080/"
        },
        "outputId": "0c913703-cc37-45b2-e00d-fa195a062246"
      },
      "outputs": [
        {
          "output_type": "stream",
          "name": "stderr",
          "text": [
            "/usr/local/lib/python3.7/dist-packages/statsmodels/tools/_testing.py:19: FutureWarning: pandas.util.testing is deprecated. Use the functions in the public API at pandas.testing instead.\n",
            "  import pandas.util.testing as tm\n"
          ]
        }
      ],
      "source": [
        "from sklearn.pipeline import make_pipeline\n",
        "from sklearn.ensemble import RandomForestClassifier\n",
        "from sklearn.tree import DecisionTreeClassifier\n",
        "from category_encoders import OrdinalEncoder, OneHotEncoder\n",
        "from sklearn.impute import SimpleImputer\n",
        "from sklearn.metrics import accuracy_score, classification_report\n",
        "from sklearn.model_selection import train_test_split\n",
        "from sklearn.preprocessing import StandardScaler\n",
        "from sklearn.linear_model import LogisticRegression\n",
        "from xgboost import XGBClassifier \n",
        "import numpy as np\n",
        "import matplotlib.pyplot as plt\n",
        "import pandas as pd"
      ]
    },
    {
      "cell_type": "code",
      "source": [
        "url = 'https://raw.githubusercontent.com/11shoe/mtg_cards/main/cards.csv'\n",
        "df = pd.read_csv(url,\n",
        "                 index_col = 'name')"
      ],
      "metadata": {
        "id": "BI2CEzApVTTA",
        "colab": {
          "base_uri": "https://localhost:8080/"
        },
        "outputId": "e52e25ba-bf23-49cd-e95a-2831ab143e17"
      },
      "execution_count": 3,
      "outputs": [
        {
          "output_type": "stream",
          "name": "stderr",
          "text": [
            "/usr/local/lib/python3.7/dist-packages/IPython/core/interactiveshell.py:2718: DtypeWarning: Columns (3,13,19,22,43,55,69) have mixed types.Specify dtype option on import or set low_memory=False.\n",
            "  interactivity=interactivity, compiler=compiler, result=result)\n"
          ]
        }
      ]
    },
    {
      "cell_type": "code",
      "source": [
        "def wrangle(df):\n",
        "\n",
        "  # removing cards that are reprints\n",
        "  df = df[df['isReprint'] != 1]\n",
        "\n",
        "  # getting rid of what are considered \"joke\" sets\n",
        "  df = df[df['setCode'] != 'UST']\n",
        "  df = df[df['setCode'] != 'UND']\n",
        "  df = df[df['setCode'] != 'UNH']\n",
        "  df = df[df['setCode'] != 'UGL']\n",
        "\n",
        "  # I do not want to include any \"special\" or \"bonus\" rarity in the data because \n",
        "  # those are not normal rarities\n",
        "  df = df[(df['rarity']!='special') & (df['rarity']!='bonus')]\n",
        "\n",
        "  # The NaN values in the target column are actual colorless cards\n",
        "  df['colorIdentity'].fillna('C', inplace=True)\n",
        "\n",
        "\n",
        "  # I am narrowing the data to only those cards that have a specific color identity\n",
        "  # instead of a mixure of colors or no color identity\n",
        "  df = df[(df['colorIdentity'] == 'W') | (df['colorIdentity'] == 'U') | (df['colorIdentity'] == 'B') | (df['colorIdentity'] == 'R') | (df['colorIdentity'] == 'G') | (df['colorIdentity'] == 'C')]\n",
        "\n",
        "  # I just want to look at creatures for this project\n",
        "  df= df[df['types'].str.contains('Creature')]\n",
        "\n",
        "  # The features that will be most important from this data set\n",
        "  df = df[['types', 'subtypes','rarity','power', 'toughness', 'keywords', 'manaValue', 'colorIdentity']]\n",
        "\n",
        "\n",
        "\n",
        "  return df"
      ],
      "metadata": {
        "id": "xESoDmgsVL9H"
      },
      "execution_count": 4,
      "outputs": []
    },
    {
      "cell_type": "code",
      "source": [
        "df = wrangle(df)"
      ],
      "metadata": {
        "id": "oDCcm-SEWNiY"
      },
      "execution_count": 5,
      "outputs": []
    },
    {
      "cell_type": "code",
      "source": [
        "df"
      ],
      "metadata": {
        "colab": {
          "base_uri": "https://localhost:8080/",
          "height": 455
        },
        "id": "I7EBFCJVWaTz",
        "outputId": "e4e82b30-bfe1-41de-ac85-4c1367545095"
      },
      "execution_count": 6,
      "outputs": [
        {
          "output_type": "execute_result",
          "data": {
            "text/html": [
              "\n",
              "  <div id=\"df-f5e26e9f-e095-4576-a02b-6a745998b4db\">\n",
              "    <div class=\"colab-df-container\">\n",
              "      <div>\n",
              "<style scoped>\n",
              "    .dataframe tbody tr th:only-of-type {\n",
              "        vertical-align: middle;\n",
              "    }\n",
              "\n",
              "    .dataframe tbody tr th {\n",
              "        vertical-align: top;\n",
              "    }\n",
              "\n",
              "    .dataframe thead th {\n",
              "        text-align: right;\n",
              "    }\n",
              "</style>\n",
              "<table border=\"1\" class=\"dataframe\">\n",
              "  <thead>\n",
              "    <tr style=\"text-align: right;\">\n",
              "      <th></th>\n",
              "      <th>types</th>\n",
              "      <th>subtypes</th>\n",
              "      <th>rarity</th>\n",
              "      <th>power</th>\n",
              "      <th>toughness</th>\n",
              "      <th>keywords</th>\n",
              "      <th>manaValue</th>\n",
              "      <th>colorIdentity</th>\n",
              "    </tr>\n",
              "    <tr>\n",
              "      <th>name</th>\n",
              "      <th></th>\n",
              "      <th></th>\n",
              "      <th></th>\n",
              "      <th></th>\n",
              "      <th></th>\n",
              "      <th></th>\n",
              "      <th></th>\n",
              "      <th></th>\n",
              "    </tr>\n",
              "  </thead>\n",
              "  <tbody>\n",
              "    <tr>\n",
              "      <th>Auriok Champion</th>\n",
              "      <td>Creature</td>\n",
              "      <td>Human,Cleric</td>\n",
              "      <td>rare</td>\n",
              "      <td>1</td>\n",
              "      <td>1</td>\n",
              "      <td>Protection</td>\n",
              "      <td>2.0</td>\n",
              "      <td>W</td>\n",
              "    </tr>\n",
              "    <tr>\n",
              "      <th>Auriok Salvagers</th>\n",
              "      <td>Creature</td>\n",
              "      <td>Human,Soldier</td>\n",
              "      <td>uncommon</td>\n",
              "      <td>2</td>\n",
              "      <td>4</td>\n",
              "      <td>NaN</td>\n",
              "      <td>4.0</td>\n",
              "      <td>W</td>\n",
              "    </tr>\n",
              "    <tr>\n",
              "      <th>Auriok Windwalker</th>\n",
              "      <td>Creature</td>\n",
              "      <td>Human,Wizard</td>\n",
              "      <td>rare</td>\n",
              "      <td>2</td>\n",
              "      <td>3</td>\n",
              "      <td>Flying</td>\n",
              "      <td>4.0</td>\n",
              "      <td>W</td>\n",
              "    </tr>\n",
              "    <tr>\n",
              "      <th>Leonin Squire</th>\n",
              "      <td>Creature</td>\n",
              "      <td>Cat,Soldier</td>\n",
              "      <td>common</td>\n",
              "      <td>2</td>\n",
              "      <td>2</td>\n",
              "      <td>NaN</td>\n",
              "      <td>2.0</td>\n",
              "      <td>W</td>\n",
              "    </tr>\n",
              "    <tr>\n",
              "      <th>Loxodon Anchorite</th>\n",
              "      <td>Creature</td>\n",
              "      <td>Elephant,Cleric</td>\n",
              "      <td>common</td>\n",
              "      <td>2</td>\n",
              "      <td>3</td>\n",
              "      <td>NaN</td>\n",
              "      <td>4.0</td>\n",
              "      <td>W</td>\n",
              "    </tr>\n",
              "    <tr>\n",
              "      <th>...</th>\n",
              "      <td>...</td>\n",
              "      <td>...</td>\n",
              "      <td>...</td>\n",
              "      <td>...</td>\n",
              "      <td>...</td>\n",
              "      <td>...</td>\n",
              "      <td>...</td>\n",
              "      <td>...</td>\n",
              "    </tr>\n",
              "    <tr>\n",
              "      <th>Oran-Rief Ooze</th>\n",
              "      <td>Creature</td>\n",
              "      <td>Ooze</td>\n",
              "      <td>rare</td>\n",
              "      <td>2</td>\n",
              "      <td>2</td>\n",
              "      <td>NaN</td>\n",
              "      <td>3.0</td>\n",
              "      <td>G</td>\n",
              "    </tr>\n",
              "    <tr>\n",
              "      <th>Swarm Shambler</th>\n",
              "      <td>Creature</td>\n",
              "      <td>Fungus,Beast</td>\n",
              "      <td>rare</td>\n",
              "      <td>0</td>\n",
              "      <td>0</td>\n",
              "      <td>NaN</td>\n",
              "      <td>1.0</td>\n",
              "      <td>G</td>\n",
              "    </tr>\n",
              "    <tr>\n",
              "      <th>Tajuru Paragon</th>\n",
              "      <td>Creature</td>\n",
              "      <td>Elf</td>\n",
              "      <td>rare</td>\n",
              "      <td>3</td>\n",
              "      <td>2</td>\n",
              "      <td>Kicker</td>\n",
              "      <td>2.0</td>\n",
              "      <td>G</td>\n",
              "    </tr>\n",
              "    <tr>\n",
              "      <th>Myriad Construct</th>\n",
              "      <td>Artifact,Creature</td>\n",
              "      <td>Construct</td>\n",
              "      <td>rare</td>\n",
              "      <td>4</td>\n",
              "      <td>4</td>\n",
              "      <td>Kicker</td>\n",
              "      <td>4.0</td>\n",
              "      <td>C</td>\n",
              "    </tr>\n",
              "    <tr>\n",
              "      <th>Charix, the Raging Isle</th>\n",
              "      <td>Creature</td>\n",
              "      <td>Leviathan,Crab</td>\n",
              "      <td>rare</td>\n",
              "      <td>0</td>\n",
              "      <td>17</td>\n",
              "      <td>NaN</td>\n",
              "      <td>4.0</td>\n",
              "      <td>U</td>\n",
              "    </tr>\n",
              "  </tbody>\n",
              "</table>\n",
              "<p>10889 rows × 8 columns</p>\n",
              "</div>\n",
              "      <button class=\"colab-df-convert\" onclick=\"convertToInteractive('df-f5e26e9f-e095-4576-a02b-6a745998b4db')\"\n",
              "              title=\"Convert this dataframe to an interactive table.\"\n",
              "              style=\"display:none;\">\n",
              "        \n",
              "  <svg xmlns=\"http://www.w3.org/2000/svg\" height=\"24px\"viewBox=\"0 0 24 24\"\n",
              "       width=\"24px\">\n",
              "    <path d=\"M0 0h24v24H0V0z\" fill=\"none\"/>\n",
              "    <path d=\"M18.56 5.44l.94 2.06.94-2.06 2.06-.94-2.06-.94-.94-2.06-.94 2.06-2.06.94zm-11 1L8.5 8.5l.94-2.06 2.06-.94-2.06-.94L8.5 2.5l-.94 2.06-2.06.94zm10 10l.94 2.06.94-2.06 2.06-.94-2.06-.94-.94-2.06-.94 2.06-2.06.94z\"/><path d=\"M17.41 7.96l-1.37-1.37c-.4-.4-.92-.59-1.43-.59-.52 0-1.04.2-1.43.59L10.3 9.45l-7.72 7.72c-.78.78-.78 2.05 0 2.83L4 21.41c.39.39.9.59 1.41.59.51 0 1.02-.2 1.41-.59l7.78-7.78 2.81-2.81c.8-.78.8-2.07 0-2.86zM5.41 20L4 18.59l7.72-7.72 1.47 1.35L5.41 20z\"/>\n",
              "  </svg>\n",
              "      </button>\n",
              "      \n",
              "  <style>\n",
              "    .colab-df-container {\n",
              "      display:flex;\n",
              "      flex-wrap:wrap;\n",
              "      gap: 12px;\n",
              "    }\n",
              "\n",
              "    .colab-df-convert {\n",
              "      background-color: #E8F0FE;\n",
              "      border: none;\n",
              "      border-radius: 50%;\n",
              "      cursor: pointer;\n",
              "      display: none;\n",
              "      fill: #1967D2;\n",
              "      height: 32px;\n",
              "      padding: 0 0 0 0;\n",
              "      width: 32px;\n",
              "    }\n",
              "\n",
              "    .colab-df-convert:hover {\n",
              "      background-color: #E2EBFA;\n",
              "      box-shadow: 0px 1px 2px rgba(60, 64, 67, 0.3), 0px 1px 3px 1px rgba(60, 64, 67, 0.15);\n",
              "      fill: #174EA6;\n",
              "    }\n",
              "\n",
              "    [theme=dark] .colab-df-convert {\n",
              "      background-color: #3B4455;\n",
              "      fill: #D2E3FC;\n",
              "    }\n",
              "\n",
              "    [theme=dark] .colab-df-convert:hover {\n",
              "      background-color: #434B5C;\n",
              "      box-shadow: 0px 1px 3px 1px rgba(0, 0, 0, 0.15);\n",
              "      filter: drop-shadow(0px 1px 2px rgba(0, 0, 0, 0.3));\n",
              "      fill: #FFFFFF;\n",
              "    }\n",
              "  </style>\n",
              "\n",
              "      <script>\n",
              "        const buttonEl =\n",
              "          document.querySelector('#df-f5e26e9f-e095-4576-a02b-6a745998b4db button.colab-df-convert');\n",
              "        buttonEl.style.display =\n",
              "          google.colab.kernel.accessAllowed ? 'block' : 'none';\n",
              "\n",
              "        async function convertToInteractive(key) {\n",
              "          const element = document.querySelector('#df-f5e26e9f-e095-4576-a02b-6a745998b4db');\n",
              "          const dataTable =\n",
              "            await google.colab.kernel.invokeFunction('convertToInteractive',\n",
              "                                                     [key], {});\n",
              "          if (!dataTable) return;\n",
              "\n",
              "          const docLinkHtml = 'Like what you see? Visit the ' +\n",
              "            '<a target=\"_blank\" href=https://colab.research.google.com/notebooks/data_table.ipynb>data table notebook</a>'\n",
              "            + ' to learn more about interactive tables.';\n",
              "          element.innerHTML = '';\n",
              "          dataTable['output_type'] = 'display_data';\n",
              "          await google.colab.output.renderOutput(dataTable, element);\n",
              "          const docLink = document.createElement('div');\n",
              "          docLink.innerHTML = docLinkHtml;\n",
              "          element.appendChild(docLink);\n",
              "        }\n",
              "      </script>\n",
              "    </div>\n",
              "  </div>\n",
              "  "
            ],
            "text/plain": [
              "                                     types  ... colorIdentity\n",
              "name                                        ...              \n",
              "Auriok Champion                   Creature  ...             W\n",
              "Auriok Salvagers                  Creature  ...             W\n",
              "Auriok Windwalker                 Creature  ...             W\n",
              "Leonin Squire                     Creature  ...             W\n",
              "Loxodon Anchorite                 Creature  ...             W\n",
              "...                                    ...  ...           ...\n",
              "Oran-Rief Ooze                    Creature  ...             G\n",
              "Swarm Shambler                    Creature  ...             G\n",
              "Tajuru Paragon                    Creature  ...             G\n",
              "Myriad Construct         Artifact,Creature  ...             C\n",
              "Charix, the Raging Isle           Creature  ...             U\n",
              "\n",
              "[10889 rows x 8 columns]"
            ]
          },
          "metadata": {},
          "execution_count": 6
        }
      ]
    },
    {
      "cell_type": "code",
      "source": [
        "# This will be my target. I want to see if I can predict a card's color identity \n",
        "# from the information on the card itself\n",
        "target = 'colorIdentity'\n",
        "X = df.drop(columns = target)\n",
        "y = df[target]"
      ],
      "metadata": {
        "id": "HcYIHfwK3rF0"
      },
      "execution_count": 7,
      "outputs": []
    },
    {
      "cell_type": "code",
      "source": [
        "# splitting the data into my traing and test sets\n",
        "X_train, X_test, y_train, y_test = train_test_split(X, y, test_size= 0.2, random_state= 42)"
      ],
      "metadata": {
        "id": "k-dGKXP27R4I"
      },
      "execution_count": 8,
      "outputs": []
    },
    {
      "cell_type": "code",
      "source": [
        "y_train.value_counts(normalize= True)"
      ],
      "metadata": {
        "colab": {
          "base_uri": "https://localhost:8080/"
        },
        "id": "8wPGo3BADyem",
        "outputId": "0704e2a0-a224-4fe1-9567-a07feca01b26"
      },
      "execution_count": 9,
      "outputs": [
        {
          "output_type": "execute_result",
          "data": {
            "text/plain": [
              "G    0.202273\n",
              "W    0.195730\n",
              "B    0.191482\n",
              "R    0.186546\n",
              "U    0.172196\n",
              "C    0.051774\n",
              "Name: colorIdentity, dtype: float64"
            ]
          },
          "metadata": {},
          "execution_count": 9
        }
      ]
    },
    {
      "cell_type": "code",
      "source": [
        "# 'G' is the most frequently occuring color so we will use that as the baseline\n",
        "baseline = y_train.value_counts(normalize= True).max()\n",
        "print('The baseline for this data is:', baseline)"
      ],
      "metadata": {
        "colab": {
          "base_uri": "https://localhost:8080/"
        },
        "id": "GtBtUPhBCqcn",
        "outputId": "f5e6deed-880b-4fe1-d2e9-e124261839fb"
      },
      "execution_count": 10,
      "outputs": [
        {
          "output_type": "stream",
          "name": "stdout",
          "text": [
            "The baseline for this data is: 0.20227298817586958\n"
          ]
        }
      ]
    },
    {
      "cell_type": "code",
      "source": [
        "model_dt = make_pipeline(\n",
        "    OrdinalEncoder(),\n",
        "    SimpleImputer(),\n",
        "    DecisionTreeClassifier(random_state=42)\n",
        ")"
      ],
      "metadata": {
        "id": "9DyCN-inKgbl"
      },
      "execution_count": 11,
      "outputs": []
    },
    {
      "cell_type": "code",
      "source": [
        "model_dt.fit(X_train, y_train)"
      ],
      "metadata": {
        "colab": {
          "base_uri": "https://localhost:8080/"
        },
        "id": "nw-ba7GHKuuL",
        "outputId": "c31d1988-6c81-485e-f4fc-266b7159e55a"
      },
      "execution_count": 12,
      "outputs": [
        {
          "output_type": "execute_result",
          "data": {
            "text/plain": [
              "Pipeline(steps=[('ordinalencoder',\n",
              "                 OrdinalEncoder(cols=['types', 'subtypes', 'rarity', 'power',\n",
              "                                      'toughness', 'keywords'],\n",
              "                                mapping=[{'col': 'types',\n",
              "                                          'data_type': dtype('O'),\n",
              "                                          'mapping': Creature                1\n",
              "Artifact,Creature       2\n",
              "Enchantment,Creature    3\n",
              "Land,Creature           4\n",
              "Instant,Creature        5\n",
              "NaN                    -2\n",
              "dtype: int64},\n",
              "                                         {'col': 'subtypes',\n",
              "                                          'data_type': dtype('O'),\n",
              "                                          'mapping': Beast                 1\n",
              "Kithkin               2\n",
              "Unicorn               3\n",
              "Human,Wa...\n",
              "dtype: int64},\n",
              "                                         {'col': 'keywords',\n",
              "                                          'data_type': dtype('O'),\n",
              "                                          'mapping': NaN                             1\n",
              "Vigilance                       2\n",
              "Magecraft,Menace,Ward           3\n",
              "Defender                        4\n",
              "Flash,Flying                    5\n",
              "                             ... \n",
              "Devoid,Trample                831\n",
              "First strike,Raid             832\n",
              "Swampcycling                  833\n",
              "Haste,Undergrowth             834\n",
              "Flying,Megamorph,Vigilance    835\n",
              "Length: 835, dtype: int64}])),\n",
              "                ('simpleimputer', SimpleImputer()),\n",
              "                ('decisiontreeclassifier',\n",
              "                 DecisionTreeClassifier(random_state=42))])"
            ]
          },
          "metadata": {},
          "execution_count": 12
        }
      ]
    },
    {
      "cell_type": "code",
      "source": [
        "print(accuracy_score(y_test, model_dt.predict(X_test)))"
      ],
      "metadata": {
        "colab": {
          "base_uri": "https://localhost:8080/"
        },
        "id": "_6TOx1Q4J_1l",
        "outputId": "ddb217ed-a50c-4b91-c62d-d77e051cc7aa"
      },
      "execution_count": 13,
      "outputs": [
        {
          "output_type": "stream",
          "name": "stdout",
          "text": [
            "0.5977961432506887\n"
          ]
        }
      ]
    },
    {
      "cell_type": "code",
      "source": [
        "print(classification_report(y_test, model_dt.predict(X_test)))"
      ],
      "metadata": {
        "colab": {
          "base_uri": "https://localhost:8080/"
        },
        "id": "CNKL4aWs7pqe",
        "outputId": "e49a515c-8107-47b5-9368-951d087757a4"
      },
      "execution_count": 14,
      "outputs": [
        {
          "output_type": "stream",
          "name": "stdout",
          "text": [
            "              precision    recall  f1-score   support\n",
            "\n",
            "           B       0.54      0.53      0.54       420\n",
            "           C       0.89      0.89      0.89       118\n",
            "           G       0.58      0.63      0.60       449\n",
            "           R       0.54      0.56      0.55       413\n",
            "           U       0.61      0.57      0.59       375\n",
            "           W       0.65      0.61      0.63       403\n",
            "\n",
            "    accuracy                           0.60      2178\n",
            "   macro avg       0.63      0.63      0.63      2178\n",
            "weighted avg       0.60      0.60      0.60      2178\n",
            "\n"
          ]
        }
      ]
    },
    {
      "cell_type": "code",
      "source": [
        "model_lr = make_pipeline(\n",
        "    OneHotEncoder(use_cat_names=True),\n",
        "    SimpleImputer(),\n",
        "    StandardScaler(),\n",
        "    LogisticRegression(max_iter= 200)\n",
        ")"
      ],
      "metadata": {
        "id": "Maj9oij0ERjC"
      },
      "execution_count": 15,
      "outputs": []
    },
    {
      "cell_type": "code",
      "source": [
        "model_lr.fit(X_train, y_train)"
      ],
      "metadata": {
        "colab": {
          "base_uri": "https://localhost:8080/"
        },
        "id": "2BFsp59NGMlN",
        "outputId": "4dce9686-a76f-424a-bb5c-ca040a5424d0"
      },
      "execution_count": 16,
      "outputs": [
        {
          "output_type": "stream",
          "name": "stderr",
          "text": [
            "/usr/local/lib/python3.7/dist-packages/sklearn/linear_model/_logistic.py:818: ConvergenceWarning: lbfgs failed to converge (status=1):\n",
            "STOP: TOTAL NO. of ITERATIONS REACHED LIMIT.\n",
            "\n",
            "Increase the number of iterations (max_iter) or scale the data as shown in:\n",
            "    https://scikit-learn.org/stable/modules/preprocessing.html\n",
            "Please also refer to the documentation for alternative solver options:\n",
            "    https://scikit-learn.org/stable/modules/linear_model.html#logistic-regression\n",
            "  extra_warning_msg=_LOGISTIC_SOLVER_CONVERGENCE_MSG,\n"
          ]
        },
        {
          "output_type": "execute_result",
          "data": {
            "text/plain": [
              "Pipeline(steps=[('onehotencoder',\n",
              "                 OneHotEncoder(cols=['types', 'subtypes', 'rarity', 'power',\n",
              "                                     'toughness', 'keywords'],\n",
              "                               use_cat_names=True)),\n",
              "                ('simpleimputer', SimpleImputer()),\n",
              "                ('standardscaler', StandardScaler()),\n",
              "                ('logisticregression', LogisticRegression(max_iter=200))])"
            ]
          },
          "metadata": {},
          "execution_count": 16
        }
      ]
    },
    {
      "cell_type": "code",
      "source": [
        "accuracy_score(y_test, model_lr.predict(X_test))"
      ],
      "metadata": {
        "colab": {
          "base_uri": "https://localhost:8080/"
        },
        "id": "mChCQ1QhGTeM",
        "outputId": "1ffdb740-e7db-4e59-844e-9048bb728b78"
      },
      "execution_count": 17,
      "outputs": [
        {
          "output_type": "execute_result",
          "data": {
            "text/plain": [
              "0.6965105601469238"
            ]
          },
          "metadata": {},
          "execution_count": 17
        }
      ]
    },
    {
      "cell_type": "code",
      "source": [
        "print(classification_report(y_test, model_lr.predict(X_test)))"
      ],
      "metadata": {
        "colab": {
          "base_uri": "https://localhost:8080/"
        },
        "id": "q5hQOk0rGrRQ",
        "outputId": "fed60db4-325b-4c6b-8f17-e0845100408c"
      },
      "execution_count": 18,
      "outputs": [
        {
          "output_type": "stream",
          "name": "stdout",
          "text": [
            "              precision    recall  f1-score   support\n",
            "\n",
            "           B       0.72      0.62      0.67       420\n",
            "           C       0.87      0.92      0.90       118\n",
            "           G       0.72      0.72      0.72       449\n",
            "           R       0.62      0.62      0.62       413\n",
            "           U       0.69      0.70      0.70       375\n",
            "           W       0.68      0.76      0.72       403\n",
            "\n",
            "    accuracy                           0.70      2178\n",
            "   macro avg       0.72      0.72      0.72      2178\n",
            "weighted avg       0.70      0.70      0.70      2178\n",
            "\n"
          ]
        }
      ]
    },
    {
      "cell_type": "code",
      "source": [
        ""
      ],
      "metadata": {
        "id": "ASSjBBkSHIiM"
      },
      "execution_count": 18,
      "outputs": []
    }
  ]
}